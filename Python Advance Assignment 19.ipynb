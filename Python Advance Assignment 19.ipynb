{
 "cells": [
  {
   "cell_type": "code",
   "execution_count": null,
   "id": "c9b73649-8725-4674-9af0-0c2c16ee3ee7",
   "metadata": {},
   "outputs": [],
   "source": [
    "#1. Define the relationship between a class and its instances. Is it a one-to-one or a one-to-many partnership, for example?\n",
    "\n",
    "Ans. Relationship between a class and its instances is a one to many partnership."
   ]
  },
  {
   "cell_type": "code",
   "execution_count": null,
   "id": "3972e3f9-752c-46c8-a8a8-adc7ddc34c3c",
   "metadata": {},
   "outputs": [],
   "source": [
    "#2. What kind of data is held only in an instance?\n",
    "\n",
    "Ans. Instance objects contains the Instance variables which are specific to that specific Instance object."
   ]
  },
  {
   "cell_type": "code",
   "execution_count": null,
   "id": "31021264-7e48-405b-8350-8517b6276f3a",
   "metadata": {},
   "outputs": [],
   "source": [
    "#3. What kind of knowledge is stored in a class?\n",
    "\n",
    "Ans. Class creates a user-defined data structure, which holds its own data members and member functions, which can be accessed and used by \n",
    "creating an instance of that class. A class is like a blueprint for an object."
   ]
  },
  {
   "cell_type": "code",
   "execution_count": null,
   "id": "4c82a635-7b68-40ea-bd3f-87bd25416dd0",
   "metadata": {},
   "outputs": [],
   "source": [
    "#4. What exactly is a method, and how is it different from a regular function?\n",
    "\n",
    "Ans. The methods with a class can be used to access the insatnce variables of its instance. So,the object's state can be modified by its method. \n",
    "Function can't access the attributes of an instance of a class or can't modify the state of the object."
   ]
  },
  {
   "cell_type": "code",
   "execution_count": null,
   "id": "eb8568a6-685c-44d0-98b8-af89c52df1b4",
   "metadata": {},
   "outputs": [],
   "source": [
    "#5.  Is inheritance supported in Python, and if so, what is the syntax?\n",
    "\n",
    "Ans. Yes,Python supports inheritance. The Types of Inheritence Supported by Python are:\n",
    "\n",
    "*Simple Inheritence\n",
    "*Multiple Inheritence\n",
    "*Multilevel lInheritence\n",
    "*Hybrid Inheritence\n",
    "*Hierracial Inheritence"
   ]
  },
  {
   "cell_type": "code",
   "execution_count": null,
   "id": "dab0d46e-139a-432a-bcfe-bdf45a1de5c2",
   "metadata": {},
   "outputs": [],
   "source": [
    "#6. How much encapsulation (making instance or class variables private) does Python support?\n",
    "\n",
    "Ans. Encapsulation describes the idea of wrapping data and the methods that work on data within one unit.\n",
    "This puts restrictions on accessing variables and methods directly and can prevent the accidental modification of data. \n",
    "To prevent accidental change, an objects variable can only be changed by an objects method."
   ]
  },
  {
   "cell_type": "code",
   "execution_count": null,
   "id": "6ab379ae-5810-493a-93a8-b265135d1e94",
   "metadata": {},
   "outputs": [],
   "source": [
    "#7. How do you distinguish between a class variable and an instance variable?\n",
    "\n",
    "Ans. The Class Attribute is available to all the instance objects of that class. whereas Instance Attributes are accessible only to the \n",
    "object or Instance of that class.\n",
    "\n",
    "A single copy of Class attributes is maintained by pvm at the class level. Whereas difference copies of instance attributes are maintained\n",
    "by pvm at objects/instance level."
   ]
  },
  {
   "cell_type": "code",
   "execution_count": null,
   "id": "f1c37b84-a6a7-4dc0-86b7-dfdae9a8e17c",
   "metadata": {},
   "outputs": [],
   "source": [
    "#8. When, if ever, can self be included in a class's method definitions?\n",
    "\n",
    "Ans. Yes, self can included in class method definations to access the instance variables inside class methods."
   ]
  },
  {
   "cell_type": "code",
   "execution_count": null,
   "id": "0afd5bd0-edec-40e9-b655-661f0f9f8342",
   "metadata": {},
   "outputs": [],
   "source": [
    "#9. What is the difference between the __add__ and the __radd__ methods ?\n",
    "\n",
    "Ans. Entering __radd__ Python will first try __add__(), and if that returns Not Implemented Python will check if the right-hand operand \n",
    "implements __radd__, and if it does, it will call __radd__() rather than raising a TypeError"
   ]
  },
  {
   "cell_type": "code",
   "execution_count": null,
   "id": "3a6f551a-5afb-4c81-a6d9-b09cdf677cf4",
   "metadata": {},
   "outputs": [],
   "source": [
    "#10. When is it necessary to use a reflection method? When do you not need it, even though you support the operation in question?\n",
    "\n",
    "Ans. Reflection method we often encounter the requirement that a method in the executing object, or a variable in the calling object, or a \n",
    "field of the object should be assigned, while the method name or field name can not be determined when encoding the code, and need to be \n",
    "input in the form of passing strings through parameters."
   ]
  },
  {
   "cell_type": "code",
   "execution_count": null,
   "id": "afab4727-b4e7-41e0-88f0-07c576f29577",
   "metadata": {},
   "outputs": [],
   "source": [
    "#11. What is the __iadd__ method called?\n",
    "\n",
    "Ans. __iadd__ method is called when we use implementation like a+=b which is a.__iadd__(b)"
   ]
  },
  {
   "cell_type": "code",
   "execution_count": null,
   "id": "cfae1a2e-f529-4153-bb28-60a0f9571cba",
   "metadata": {},
   "outputs": [],
   "source": [
    "#12. Is the _ _init_ _ method inherited by subclasses? What do you do if you need to customize its behavior within a subclass ?\n",
    "\n",
    "Ans. Yes, __init__ method will be inherited by subclasses. if we want to customize its behaviour within a subclass we can use super() method."
   ]
  }
 ],
 "metadata": {
  "kernelspec": {
   "display_name": "Python 3 (ipykernel)",
   "language": "python",
   "name": "python3"
  },
  "language_info": {
   "codemirror_mode": {
    "name": "ipython",
    "version": 3
   },
   "file_extension": ".py",
   "mimetype": "text/x-python",
   "name": "python",
   "nbconvert_exporter": "python",
   "pygments_lexer": "ipython3",
   "version": "3.10.6"
  }
 },
 "nbformat": 4,
 "nbformat_minor": 5
}
